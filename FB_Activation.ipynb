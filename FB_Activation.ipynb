{
 "cells": [
  {
   "cell_type": "code",
   "execution_count": null,
   "metadata": {
    "id": "5YxxjV_mKk3k"
   },
   "outputs": [],
   "source": [
    "!pip install facebook_business\n",
    "!pip install google-api-python-client\n",
    "!pip install google-cloud-vision\n",
    "\n",
    "## FACEBOOK API ##\n",
    "from facebook_business.adobjects.adaccount import AdAccount\n",
    "from facebook_business.adobjects.campaign import Campaign\n",
    "from facebook_business.api import FacebookAdsApi\n",
    "from facebook_business.adobjects.adset import AdSet\n",
    "\n",
    "## GOOGLE AUTHENTICATION ##\n",
    "from google.colab import auth\n",
    "\n",
    "## GENERAL LIBRARIES ##\n",
    "\n",
    "import csv\n",
    "import datetime\n",
    "import io\n",
    "import json\n",
    "import pprint\n",
    "import requests\n",
    "import pandas as pd\n",
    "import json\n",
    "\n",
    "auth.authenticate_user()\n",
    "\n",
    "print('Successfully imported Python libraries!')"
   ]
  },
  {
   "cell_type": "code",
   "execution_count": null,
   "metadata": {
    "id": "v2cdBPKmKmGT"
   },
   "outputs": [],
   "source": [
    "df = pd.read_csv('link to google Sheet')\n",
    "df = df[['API Location name','Line Item Status to apply']]"
   ]
  },
  {
   "cell_type": "code",
   "execution_count": null,
   "metadata": {
    "id": "j-GrsSBKLai3"
   },
   "outputs": [],
   "source": [
    "access_token = 'Access token for Facebook'\n",
    "app_secret = 'Secret from Facebook'\n",
    "app_id = 'Application ID from FB'\n",
    "id = 'Advertiser ID'\n",
    "FacebookAdsApi.init(app_id, app_secret, access_token)\n",
    "my_account = AdAccount('Ad Account')\n",
    "campaigns = my_account.get_campaigns()"
   ]
  },
  {
   "cell_type": "code",
   "execution_count": 6,
   "metadata": {
    "colab": {
     "base_uri": "https://localhost:8080/",
     "height": 514
    },
    "id": "bxqly-XFMwLC",
    "outputId": "278f4f93-370a-45b2-b7bb-149a03da5f91"
   },
   "outputs": [],
   "source": [
    "campaign = Campaign('Campaign ID')\n",
    "adsets = campaign.get_ad_sets(fields=[\n",
    "    AdSet.Field.name,\n",
    "    AdSet.Field.id,\n",
    "    AdSet.Field.daily_budget,\n",
    "])\n",
    "adsets_df = pd.DataFrame(adsets)"
   ]
  },
  {
   "cell_type": "code",
   "execution_count": null,
   "metadata": {
    "id": "nlDMby85WMVt"
   },
   "outputs": [],
   "source": [
    "adsets_df['name'] = adsets_df['name'].str.split('_').str[5]\n",
    "adsets_df['name'] = adsets_df['name'].str.split(' Targeting Audience').str[0]"
   ]
  },
  {
   "cell_type": "code",
   "execution_count": null,
   "metadata": {
    "id": "ECcL0-gTdsX0"
   },
   "outputs": [],
   "source": [
    "adsets_df['name'] = adsets_df['name'].astype(str)\n",
    "df['API Location name'] = df['API Location name'].astype(str)"
   ]
  },
  {
   "cell_type": "code",
   "execution_count": 5,
   "metadata": {
    "colab": {
     "base_uri": "https://localhost:8080/",
     "height": 142
    },
    "id": "WeeDuMVn133o",
    "outputId": "ab60d9a4-f93b-434f-914f-47ced2d47665"
   },
   "outputs": [],
   "source": [
    "active_df = df.loc[df['Line Item Status to apply'] == 'ACTIVE']\n",
    "active_df = adsets_df.merge(active_df,left_on='name',right_on='API Location name')"
   ]
  },
  {
   "cell_type": "code",
   "execution_count": 4,
   "metadata": {
    "colab": {
     "base_uri": "https://localhost:8080/"
    },
    "id": "PLlFL-P5coim",
    "outputId": "4441465f-33ca-42b5-d40b-0503c6106213"
   },
   "outputs": [],
   "source": [
    "active_df = df.loc[df['Line Item Status to apply'] == 'ACTIVE']\n",
    "active_df = adsets_df.merge(active_df,left_on='name',right_on='API Location name')\n",
    "for id in active_df['id']:\n",
    "  adset = AdSet(id)\n",
    "  adset[AdSet.Field.status] = AdSet.Status.active\n",
    "  adset.remote_update()\n",
    "  print(id +  ' Activated')\n"
   ]
  },
  {
   "cell_type": "code",
   "execution_count": 7,
   "metadata": {
    "colab": {
     "base_uri": "https://localhost:8080/"
    },
    "id": "UJZFHXKwqdd3",
    "outputId": "9d9674fa-830b-4840-9b92-7e45b917c3ba"
   },
   "outputs": [],
   "source": [
    "paused_df = df.loc[df['Line Item Status to apply'] == 'PAUSED']\n",
    "paused_df = adsets_df.merge(paused_df,left_on='name',right_on='API Location name')\n",
    "for id in paused_df['id']:\n",
    "  adset = AdSet(id)\n",
    "  adset[AdSet.Field.status] = AdSet.Status.paused\n",
    "  adset.remote_update()\n",
    "  print(id +  ' Paused')\n"
   ]
  },
  {
   "cell_type": "code",
   "execution_count": null,
   "metadata": {
    "id": "c7aalug_28f2"
   },
   "outputs": [],
   "source": []
  }
 ],
 "metadata": {
  "colab": {
   "name": "Rockgas FB Activation",
   "provenance": []
  },
  "kernelspec": {
   "display_name": "Python 3",
   "language": "python",
   "name": "python3"
  },
  "language_info": {
   "codemirror_mode": {
    "name": "ipython",
    "version": 3
   },
   "file_extension": ".py",
   "mimetype": "text/x-python",
   "name": "python",
   "nbconvert_exporter": "python",
   "pygments_lexer": "ipython3",
   "version": "3.8.8"
  }
 },
 "nbformat": 4,
 "nbformat_minor": 1
}
